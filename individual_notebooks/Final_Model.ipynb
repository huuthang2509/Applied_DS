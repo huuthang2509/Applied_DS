{
  "cells": [
    {
      "cell_type": "markdown",
      "metadata": {
        "id": "cYuNOqYrmo9D"
      },
      "source": [
        "# **Model Tuning**"
      ]
    },
    {
      "cell_type": "markdown",
      "metadata": {
        "id": "gBb5vu7Pmo9Q"
      },
      "source": [
        "# Mô hình: Gradient Boosting Machine \n"
      ]
    },
    {
      "cell_type": "markdown",
      "source": [
        "Phần giới thiệu về mô hình này là do nhóm tự tìm hiểu và giải thích."
      ],
      "metadata": {
        "id": "elwf5YabiVHf"
      }
    },
    {
      "cell_type": "markdown",
      "metadata": {
        "id": "6__uKpkWmo9S"
      },
      "source": [
        "## Ensemble Methods"
      ]
    },
    {
      "cell_type": "markdown",
      "metadata": {
        "id": "JbpZFeWDmo9U"
      },
      "source": [
        "**Ensemble Methods** (Học kết hợp) là phương pháp giải quyết bài toán bằng cách xây dựng nhiều mô hình \"yếu“ (weak learner), đơn giản và kết hợp chúng là với nhau để thu được một mô hình vượt trội, thay vì xây dựng một mô hình thật sự tốt ngay từ ban đầu."
      ]
    },
    {
      "cell_type": "markdown",
      "metadata": {
        "id": "wEjm6dwUmo9W"
      },
      "source": [
        "![Ensemble Methods](https://github.com/huuthang2509/Applied_DS/blob/main/Image/ensemble-method.png?raw=true)"
      ]
    },
    {
      "cell_type": "markdown",
      "metadata": {
        "id": "v_mox9qzmo9Y"
      },
      "source": [
        "> Nguồn: https://www.educba.com/ensemble-methods-in-machine-learning/"
      ]
    },
    {
      "cell_type": "markdown",
      "metadata": {
        "id": "tIEWO9Z7mo9Z"
      },
      "source": [
        "## Boosting"
      ]
    },
    {
      "cell_type": "markdown",
      "metadata": {
        "id": "mJWWqW7lmo9h"
      },
      "source": [
        "Là một trong 3 nhóm của Ensemble Methods (bên cạnh Bagging và Stacking).\n",
        "\n",
        "**Boosting** là một phương pháp xây dựng một loạt các mô hình giống nhau, trong đó các mô hình sau sẽ cố gắng học để hạn chế lỗi của mô hình trước. Mỗi mô hình có thể xem là một **base model** hay weak learner.\n",
        "\n",
        "Có 2 loại Boosting là:\n",
        "- Adaptive Boosting (AdaBoost)\n",
        "- Gradient Boosting"
      ]
    },
    {
      "cell_type": "markdown",
      "metadata": {
        "id": "8G2qJEHRmo9k"
      },
      "source": [
        "## Gradient Boosting"
      ]
    },
    {
      "cell_type": "markdown",
      "metadata": {
        "id": "UF1dOkIrmo9n"
      },
      "source": [
        "**Gradient Boosting** là một phương pháp xây dựng một loạt các mô hình giống nhau, trong đó các mô hình sau sẽ cố gắng học để hạn chế lỗi của mô hình trước. Thuật toán dựa vào **Gradient Descent** và ở đây mỗi base model là thường một **cây quyết định**.\n",
        "\n",
        "Có 2 framework phổ biến nhất là **XGBoost** và **LightGBM**."
      ]
    },
    {
      "cell_type": "markdown",
      "metadata": {
        "id": "VE333eQ3jfHE"
      },
      "source": [
        "![Simple Example Gradient Boosting](https://github.com/huuthang2509/Applied_DS/blob/main/Image/examble-gradient-boosting.png?raw=true)"
      ]
    },
    {
      "cell_type": "markdown",
      "metadata": {
        "id": "uS6av1DAmo9p"
      },
      "source": [
        "### Lý do lựa chọn LightGBM"
      ]
    },
    {
      "cell_type": "markdown",
      "metadata": {
        "id": "BSLG_FjMmo9q"
      },
      "source": [
        "- Đây là một trong những thuật toán mạnh nhất hiện nay.\n",
        "- Có thể xử lý vấn đề missing value, có feature important để loại bớt các thuộc tính không cần thiết.\n",
        "- Nó có tốc độ xử lý nhanh hơn rất nhiều lần so với XGBoost. (Vì XGBoost chạy rất chậm với tập dữ liệu lớn)."
      ]
    },
    {
      "cell_type": "markdown",
      "metadata": {
        "id": "2B66mzzRmo9t"
      },
      "source": [
        "LightGBM sử dụng phương pháp leaf - wise (Lựa chọn những node có giá trị tốt hơn thay vì duyệt qua tất cả các node):"
      ]
    },
    {
      "cell_type": "markdown",
      "metadata": {
        "id": "AGKix279mo9u"
      },
      "source": [
        "![XGBoost vs LightGBM](https://github.com/huuthang2509/Applied_DS/blob/main/Image/LGBM.png?raw=true)"
      ]
    },
    {
      "cell_type": "markdown",
      "metadata": {
        "id": "G4OWY86Smo9v"
      },
      "source": [
        "# Hyperparameter Tuning"
      ]
    },
    {
      "cell_type": "markdown",
      "metadata": {
        "id": "geq4f6kjmo9w"
      },
      "source": [
        "Điều chỉnh siêu tham số (Hyperparameter Tuning) là quá trình điều chỉnh mô hình và tìm sự kết hợp của các giá trị siêu tham số cho một mô hình học máy để đạt được độ đo tốt nhất cho một vấn đề.\n",
        "\n",
        "Có một số cách thường thấy của việc điều chỉnh siêu tham số:\n",
        "\n",
        "1. __Thủ công__: lựa chọn siêu tham số dựa vào kinh nghiệm, suy đoán... và sau đó huấn luyện mô hình. Lặp lại các bước khi được kết quả phù hợp hoặc khi hết kiên nhẫn.\n",
        "2. __Grid Search__: tạo một lưới các giá trị siêu tham số và huấn luyện mô hình, tính số điểm trên tập validation với mỗi sự kết hợp.\n",
        "3. __Random search__: tạo một lưới các giá trị siêu tham số và lựa chọn ngẫu nhiên một số sự kết hợp để huấn luyện và tính điểm của mô hình. Số lần lặp lại dựa trên tài nguyên/thời gian.\n",
        "4. __Automated Hyperparameter Tuning__: sử dụng các phương pháp như gradient descent, Bayesian Optiomization hoặc các thuật toán cải tiến để tìm kiếm các siêu tham số tốt nhất.\n",
        "\n",
        "(Ta có thể xem chi tiết hơn [tại đây](https://en.wikipedia.org/wiki/Hyperparameter_optimization))"
      ]
    },
    {
      "cell_type": "markdown",
      "metadata": {
        "id": "MOb8T77mmo9z"
      },
      "source": [
        "Tác giả của chuỗi Notebook sử dụng hướng tiếp cận 2, 3 và 4. Nhóm đã thực hiện lại và lựa chọn Automated Hyperparameter Tuning để áp dụng và cải tiến mô hình.\n",
        "Chi tiết về cách thực thi của nhóm bằng những phương pháp trên:\n",
        "- [Manual Model Tuning](https://colab.research.google.com/github/huuthang2509/Applied_DS/blob/main/individual_notebooks/Manual_Model_Tuning.ipynb)\n",
        "- [Automated Model Tuning](https://colab.research.google.com/github/huuthang2509/Applied_DS/blob/main/individual_notebooks/Automated_Model_Tuning.ipynb)"
      ]
    },
    {
      "cell_type": "markdown",
      "metadata": {
        "id": "4GOVTvjumo91"
      },
      "source": [
        "# Automated Model Tuning"
      ]
    },
    {
      "cell_type": "markdown",
      "source": [
        "Phần giải thích thuật toán tự động hoá điều chỉnh siêu tham số này nhóm dịch lại của tác giả, lược bỏ bớt và sử dụng theo ngôn ngữ của nhóm."
      ],
      "metadata": {
        "id": "1rbNzYn0svhu"
      }
    },
    {
      "cell_type": "markdown",
      "metadata": {
        "_uuid": "b75991b6b827d4506af8e4c8528b8323053dad88",
        "id": "MU_wldQCr0ez"
      },
      "source": [
        "Tác giả sử dụng phương pháp Bayesian Optimization và thư viện Hyperopt để điều chỉnh siêu tham số của GBM một cách tự động nhằm cải tiến mô hình máy học."
      ]
    },
    {
      "cell_type": "markdown",
      "metadata": {
        "id": "jVpvVqKoBmtz"
      },
      "source": [
        "## Bayesian Optimization Primer\n",
        "\n",
        "Vấn đề của grid và random search đó là chúng không phải phương pháp có sử dụng những kết quả cũ từ các giá trị khác nhau của những siêu tham số trong hàm mục tiêu. Tối ưu hóa Bayes là giới hạn các lệnh gọi đến hàm đánh giá bằng cách chọn các giá trị siêu tham số tiếp theo dựa trên các kết quả trước đó. Điều này cho phép thuật toán dành nhiều thời gian hơn để đánh giá các giá trị siêu tham số  và tốn ít thời gian hơn ở các vùng có điểm thấp của không gian siêu tham số. Ví dụ, hãy xem xét hình ảnh dưới đây:\n",
        "\n",
        "![](https://github.com/huuthang2509/Applied_DS/blob/main/Image/random_forest_hypothetical.png?raw=true)\n",
        "\n",
        "Như hình trên thì ta nên tập trung vào khu vực có độ lỗi thấp. Tối ưu hóa Bayes hoạt động bằng cách xây dựng một hàm thay thế (dưới dạng mô hình xác suất: mô hình chứa các giá trị có thể của biến và xác suất xảy ra của biến này) của hàm mục tiêu $P(\\text{score} | \\text{hyperparameters})$. Hàm thay thế tốn ít chi phí hơn nhiều để đánh giá so với hàm mục tiêu, vì vậy thuật toán chọn các giá trị tiếp theo để thử trong mục tiêu dựa trên việc tối đa hóa một tiêu chí trên hàm thay thế (thường là cải tiến được mong đợi).\n",
        "\n",
        "Hàm thay thế dựa trên kết quả đánh giá trong quá khứ. Bayesian optimization dựa trên lý luận Bayes: hình thành một mô hình và sau đó cập nhật nó với nhiều thông tin hơn. Ý tưởng ở đây là khi dữ liệu đủ nhiều, hàm thay thế ngày càng gần hàm mục tiêu, và các siêu tham số tốt nhất cho hàm thay thế cũng sẽ tốt với hàm mục tiêu. Một số lựa chọn phổ biến là Gaussian Process, Random Forest Regression và Tree Parzen Estimator.\n",
        "\n",
        "### 4 Phần của Bayesian Optimization\n",
        "\n",
        "1. __Objective Function__: hàm mục tiêu, nhận về các siêu tham số và trả về độ đo cần giảm thiểu hoặc tối ưu hoá.\n",
        "2. __Domain space__: miền giá trị của các siêu tham số để tính toán\n",
        "3. __Optimization Algorithm__: phương pháp sử dụng hàm thay thế và lựa chọn giá trị tiếp theo cho mô hình\n",
        "4. __Results__: độ đo và các cặp giá trị để thuật toán sử dụng cho việc xây dựng hàm thay thế\n",
        "\n",
        "## Hyperopt\n",
        "\n",
        "Hyperopt là một thư viện Python mã nguồn mở triển khai Bayesian Optimization bằng cách sử dụng thuật toán Tree Parzen Estimator để xây dựng hàm thay thế và chọn các giá trị siêu tham số tiếp theo để đánh giá trong hàm mục tiêu.\n",
        "[Hyperopt Documentation](http://hyperopt.github.io/hyperopt/)\n",
        "\n",
        "\n",
        "## Tập dữ liệu và hướng tiếp cận\n",
        "\n",
        "Bởi vì dữ liệu của cuộc thi rất lớn (~300.000 mẫu), nếu thực hiện hết ngay từ đầu sẽ rất tốn thời gian và tài nguyên. Nhóm sẽ thực hiện trước trên tập giới hạn với 20000 dữ liệu train, 10000 dữ liệu test. (Tác giả thực hiện trên tập 10000 train, 6000 test; nhóm quyết định nâng dữ liệu lên để tránh hiện tượng overfitting). Sau khi áp dụng Bayesian hyperparameter optimization trên tập giới hạn này và có được giá trị của bộ siêu tham số tối ưu. Nhóm sẽ thực hiện tiếp trên tập dữ liệu đã được tiền xử lý từ phần trước.\n",
        "\n",
        "\n",
        "## Cross Validation\n",
        "\n",
        "Chia tập train thành các tập con nhỏ đến tiến hành huấn luyện và xác thực chéo lẫn nhau. Sử dụng KFold (KFold cross validation) với n_fold = 5. Tập train sẽ được chia làm 5 phần, sau đó tiến hành train 5 lần, với mỗi lần thì sẽ dùng 1 phần làm validation và 4 phần còn lại làm dữ liệu train. Kết quả đánh giá model sẽ là trung bình cộng của 5 lần train. Hiệu suất của mỗi bộ siêu tham số sẽ được tính bằng ROC AUC. \n",
        "\n",
        "\n",
        "### Early Stopping\n",
        "\n",
        "Siêu tham số number of estimators (số lượng cây quyết định được đào tạo tuần tự) là một trong những siêu tham số quan trọng nhất trong GBM. Phương pháp early stopping sẽ dừng quá trình train khi lỗi không giảm trong một số lần lặp nhất định. Trong bài này, tác giả áp dụng early stopping với 100 lần lặp. \n",
        "\n",
        "Nếu ta cứ tiếp tục huấn luyện khi độ lỗi không giảm thì có thể sai số huấn luyện sẽ giảm nhưng sẽ dẫn đến việc overfitting do mô hình quá phụ thuộc vào dữ liệu train.\n",
        "\n",
        "Nội dung các phần code là nhóm thực hiện lại theo tác giả và lược bớt những phần không cần thiết."
      ]
    },
    {
      "cell_type": "markdown",
      "metadata": {
        "id": "6_oX4YcZmo96"
      },
      "source": [
        "## Thực hiện"
      ]
    },
    {
      "cell_type": "markdown",
      "metadata": {
        "_uuid": "1798704d5f149fb36233f30149560847d3483690",
        "id": "G82GxvaBr0fE"
      },
      "source": [
        "### Import thư viện"
      ]
    },
    {
      "cell_type": "code",
      "execution_count": null,
      "metadata": {
        "_uuid": "ad6e0966d342110e5306d6c74a63f682e164e6a4",
        "execution": {
          "iopub.execute_input": "2021-12-26T10:28:47.233925Z",
          "iopub.status.busy": "2021-12-26T10:28:47.233111Z",
          "iopub.status.idle": "2021-12-26T10:28:47.261742Z",
          "shell.execute_reply": "2021-12-26T10:28:47.260910Z",
          "shell.execute_reply.started": "2021-12-26T10:28:47.233772Z"
        },
        "id": "TgxosbWer0fG"
      },
      "outputs": [],
      "source": [
        "# Thư viện để thực hiện các thao tác trên dữ liệu\n",
        "import pandas as pd\n",
        "import numpy as np\n",
        "\n",
        "# Mô hình\n",
        "import lightgbm as lgb\n",
        "\n",
        "# Đánh giá mô hình\n",
        "from sklearn.model_selection import KFold, train_test_split\n",
        "from sklearn.metrics import roc_auc_score\n",
        "\n",
        "# Trực quan hoá\n",
        "import matplotlib.pyplot as plt\n",
        "import seaborn as sns\n",
        "\n",
        "plt.rcParams['font.size'] = 18\n",
        "%matplotlib inline\n",
        "\n",
        "# Các hằng phục vụ cho việc lựa chọn tham số\n",
        "N_FOLDS = 5\n",
        "MAX_EVALS = 5"
      ]
    },
    {
      "cell_type": "markdown",
      "metadata": {
        "id": "cKeyKcWDr-G3"
      },
      "source": [
        "### Import Data"
      ]
    },
    {
      "cell_type": "code",
      "execution_count": null,
      "metadata": {
        "_uuid": "7d46f3c242a588fb69fd805188cbb262bf2b619e",
        "execution": {
          "iopub.execute_input": "2021-12-26T10:28:47.263515Z",
          "iopub.status.busy": "2021-12-26T10:28:47.262981Z",
          "iopub.status.idle": "2021-12-26T10:28:54.709771Z",
          "shell.execute_reply": "2021-12-26T10:28:54.708779Z",
          "shell.execute_reply.started": "2021-12-26T10:28:47.263470Z"
        },
        "id": "-pgadfGur0fL",
        "outputId": "dd626453-d57a-4939-986a-d210befc57ff"
      },
      "outputs": [
        {
          "name": "stdout",
          "output_type": "stream",
          "text": [
            "Train shape:  (20000, 104)\n",
            "Test shape:  (10000, 104)\n"
          ]
        },
        {
          "data": {
            "text/html": [
              "<div>\n",
              "<style scoped>\n",
              "    .dataframe tbody tr th:only-of-type {\n",
              "        vertical-align: middle;\n",
              "    }\n",
              "\n",
              "    .dataframe tbody tr th {\n",
              "        vertical-align: top;\n",
              "    }\n",
              "\n",
              "    .dataframe thead th {\n",
              "        text-align: right;\n",
              "    }\n",
              "</style>\n",
              "<table border=\"1\" class=\"dataframe\">\n",
              "  <thead>\n",
              "    <tr style=\"text-align: right;\">\n",
              "      <th></th>\n",
              "      <th>CNT_CHILDREN</th>\n",
              "      <th>AMT_INCOME_TOTAL</th>\n",
              "      <th>AMT_CREDIT</th>\n",
              "      <th>AMT_ANNUITY</th>\n",
              "      <th>AMT_GOODS_PRICE</th>\n",
              "      <th>REGION_POPULATION_RELATIVE</th>\n",
              "      <th>DAYS_BIRTH</th>\n",
              "      <th>DAYS_EMPLOYED</th>\n",
              "      <th>DAYS_REGISTRATION</th>\n",
              "      <th>DAYS_ID_PUBLISH</th>\n",
              "      <th>OWN_CAR_AGE</th>\n",
              "      <th>FLAG_MOBIL</th>\n",
              "      <th>FLAG_EMP_PHONE</th>\n",
              "      <th>FLAG_WORK_PHONE</th>\n",
              "      <th>FLAG_CONT_MOBILE</th>\n",
              "      <th>FLAG_PHONE</th>\n",
              "      <th>FLAG_EMAIL</th>\n",
              "      <th>CNT_FAM_MEMBERS</th>\n",
              "      <th>REGION_RATING_CLIENT</th>\n",
              "      <th>REGION_RATING_CLIENT_W_CITY</th>\n",
              "      <th>HOUR_APPR_PROCESS_START</th>\n",
              "      <th>REG_REGION_NOT_LIVE_REGION</th>\n",
              "      <th>REG_REGION_NOT_WORK_REGION</th>\n",
              "      <th>LIVE_REGION_NOT_WORK_REGION</th>\n",
              "      <th>REG_CITY_NOT_LIVE_CITY</th>\n",
              "      <th>REG_CITY_NOT_WORK_CITY</th>\n",
              "      <th>LIVE_CITY_NOT_WORK_CITY</th>\n",
              "      <th>EXT_SOURCE_1</th>\n",
              "      <th>EXT_SOURCE_2</th>\n",
              "      <th>EXT_SOURCE_3</th>\n",
              "      <th>APARTMENTS_AVG</th>\n",
              "      <th>BASEMENTAREA_AVG</th>\n",
              "      <th>YEARS_BEGINEXPLUATATION_AVG</th>\n",
              "      <th>YEARS_BUILD_AVG</th>\n",
              "      <th>COMMONAREA_AVG</th>\n",
              "      <th>ELEVATORS_AVG</th>\n",
              "      <th>ENTRANCES_AVG</th>\n",
              "      <th>FLOORSMAX_AVG</th>\n",
              "      <th>FLOORSMIN_AVG</th>\n",
              "      <th>LANDAREA_AVG</th>\n",
              "      <th>...</th>\n",
              "      <th>ENTRANCES_MEDI</th>\n",
              "      <th>FLOORSMAX_MEDI</th>\n",
              "      <th>FLOORSMIN_MEDI</th>\n",
              "      <th>LANDAREA_MEDI</th>\n",
              "      <th>LIVINGAPARTMENTS_MEDI</th>\n",
              "      <th>LIVINGAREA_MEDI</th>\n",
              "      <th>NONLIVINGAPARTMENTS_MEDI</th>\n",
              "      <th>NONLIVINGAREA_MEDI</th>\n",
              "      <th>TOTALAREA_MODE</th>\n",
              "      <th>OBS_30_CNT_SOCIAL_CIRCLE</th>\n",
              "      <th>DEF_30_CNT_SOCIAL_CIRCLE</th>\n",
              "      <th>OBS_60_CNT_SOCIAL_CIRCLE</th>\n",
              "      <th>DEF_60_CNT_SOCIAL_CIRCLE</th>\n",
              "      <th>DAYS_LAST_PHONE_CHANGE</th>\n",
              "      <th>FLAG_DOCUMENT_2</th>\n",
              "      <th>FLAG_DOCUMENT_3</th>\n",
              "      <th>FLAG_DOCUMENT_4</th>\n",
              "      <th>FLAG_DOCUMENT_5</th>\n",
              "      <th>FLAG_DOCUMENT_6</th>\n",
              "      <th>FLAG_DOCUMENT_7</th>\n",
              "      <th>FLAG_DOCUMENT_8</th>\n",
              "      <th>FLAG_DOCUMENT_9</th>\n",
              "      <th>FLAG_DOCUMENT_10</th>\n",
              "      <th>FLAG_DOCUMENT_11</th>\n",
              "      <th>FLAG_DOCUMENT_12</th>\n",
              "      <th>FLAG_DOCUMENT_13</th>\n",
              "      <th>FLAG_DOCUMENT_14</th>\n",
              "      <th>FLAG_DOCUMENT_15</th>\n",
              "      <th>FLAG_DOCUMENT_16</th>\n",
              "      <th>FLAG_DOCUMENT_17</th>\n",
              "      <th>FLAG_DOCUMENT_18</th>\n",
              "      <th>FLAG_DOCUMENT_19</th>\n",
              "      <th>FLAG_DOCUMENT_20</th>\n",
              "      <th>FLAG_DOCUMENT_21</th>\n",
              "      <th>AMT_REQ_CREDIT_BUREAU_HOUR</th>\n",
              "      <th>AMT_REQ_CREDIT_BUREAU_DAY</th>\n",
              "      <th>AMT_REQ_CREDIT_BUREAU_WEEK</th>\n",
              "      <th>AMT_REQ_CREDIT_BUREAU_MON</th>\n",
              "      <th>AMT_REQ_CREDIT_BUREAU_QRT</th>\n",
              "      <th>AMT_REQ_CREDIT_BUREAU_YEAR</th>\n",
              "    </tr>\n",
              "  </thead>\n",
              "  <tbody>\n",
              "    <tr>\n",
              "      <th>134179</th>\n",
              "      <td>0</td>\n",
              "      <td>112500.0</td>\n",
              "      <td>389844.0</td>\n",
              "      <td>21145.5</td>\n",
              "      <td>315000.0</td>\n",
              "      <td>0.006207</td>\n",
              "      <td>-15787</td>\n",
              "      <td>-4829</td>\n",
              "      <td>-4423.0</td>\n",
              "      <td>-4429</td>\n",
              "      <td>34.0</td>\n",
              "      <td>1</td>\n",
              "      <td>1</td>\n",
              "      <td>0</td>\n",
              "      <td>1</td>\n",
              "      <td>1</td>\n",
              "      <td>0</td>\n",
              "      <td>2.0</td>\n",
              "      <td>2</td>\n",
              "      <td>2</td>\n",
              "      <td>17</td>\n",
              "      <td>0</td>\n",
              "      <td>0</td>\n",
              "      <td>0</td>\n",
              "      <td>0</td>\n",
              "      <td>0</td>\n",
              "      <td>0</td>\n",
              "      <td>NaN</td>\n",
              "      <td>0.466948</td>\n",
              "      <td>NaN</td>\n",
              "      <td>NaN</td>\n",
              "      <td>NaN</td>\n",
              "      <td>NaN</td>\n",
              "      <td>NaN</td>\n",
              "      <td>NaN</td>\n",
              "      <td>NaN</td>\n",
              "      <td>NaN</td>\n",
              "      <td>NaN</td>\n",
              "      <td>NaN</td>\n",
              "      <td>NaN</td>\n",
              "      <td>...</td>\n",
              "      <td>NaN</td>\n",
              "      <td>NaN</td>\n",
              "      <td>NaN</td>\n",
              "      <td>NaN</td>\n",
              "      <td>NaN</td>\n",
              "      <td>NaN</td>\n",
              "      <td>NaN</td>\n",
              "      <td>NaN</td>\n",
              "      <td>NaN</td>\n",
              "      <td>0.0</td>\n",
              "      <td>0.0</td>\n",
              "      <td>0.0</td>\n",
              "      <td>0.0</td>\n",
              "      <td>-2178.0</td>\n",
              "      <td>0</td>\n",
              "      <td>1</td>\n",
              "      <td>0</td>\n",
              "      <td>0</td>\n",
              "      <td>0</td>\n",
              "      <td>0</td>\n",
              "      <td>0</td>\n",
              "      <td>0</td>\n",
              "      <td>0</td>\n",
              "      <td>0</td>\n",
              "      <td>0</td>\n",
              "      <td>0</td>\n",
              "      <td>0</td>\n",
              "      <td>0</td>\n",
              "      <td>0</td>\n",
              "      <td>0</td>\n",
              "      <td>0</td>\n",
              "      <td>0</td>\n",
              "      <td>0</td>\n",
              "      <td>0</td>\n",
              "      <td>0.0</td>\n",
              "      <td>0.0</td>\n",
              "      <td>0.0</td>\n",
              "      <td>1.0</td>\n",
              "      <td>0.0</td>\n",
              "      <td>0.0</td>\n",
              "    </tr>\n",
              "    <tr>\n",
              "      <th>182680</th>\n",
              "      <td>0</td>\n",
              "      <td>81000.0</td>\n",
              "      <td>536917.5</td>\n",
              "      <td>16407.0</td>\n",
              "      <td>463500.0</td>\n",
              "      <td>0.007120</td>\n",
              "      <td>-23491</td>\n",
              "      <td>365243</td>\n",
              "      <td>-2651.0</td>\n",
              "      <td>-4794</td>\n",
              "      <td>NaN</td>\n",
              "      <td>1</td>\n",
              "      <td>0</td>\n",
              "      <td>0</td>\n",
              "      <td>1</td>\n",
              "      <td>0</td>\n",
              "      <td>0</td>\n",
              "      <td>1.0</td>\n",
              "      <td>2</td>\n",
              "      <td>2</td>\n",
              "      <td>10</td>\n",
              "      <td>0</td>\n",
              "      <td>0</td>\n",
              "      <td>0</td>\n",
              "      <td>0</td>\n",
              "      <td>0</td>\n",
              "      <td>0</td>\n",
              "      <td>NaN</td>\n",
              "      <td>0.703974</td>\n",
              "      <td>0.529890</td>\n",
              "      <td>NaN</td>\n",
              "      <td>NaN</td>\n",
              "      <td>NaN</td>\n",
              "      <td>NaN</td>\n",
              "      <td>NaN</td>\n",
              "      <td>NaN</td>\n",
              "      <td>NaN</td>\n",
              "      <td>NaN</td>\n",
              "      <td>NaN</td>\n",
              "      <td>NaN</td>\n",
              "      <td>...</td>\n",
              "      <td>NaN</td>\n",
              "      <td>NaN</td>\n",
              "      <td>NaN</td>\n",
              "      <td>NaN</td>\n",
              "      <td>NaN</td>\n",
              "      <td>NaN</td>\n",
              "      <td>NaN</td>\n",
              "      <td>NaN</td>\n",
              "      <td>NaN</td>\n",
              "      <td>0.0</td>\n",
              "      <td>0.0</td>\n",
              "      <td>0.0</td>\n",
              "      <td>0.0</td>\n",
              "      <td>-717.0</td>\n",
              "      <td>0</td>\n",
              "      <td>0</td>\n",
              "      <td>0</td>\n",
              "      <td>0</td>\n",
              "      <td>1</td>\n",
              "      <td>0</td>\n",
              "      <td>0</td>\n",
              "      <td>0</td>\n",
              "      <td>0</td>\n",
              "      <td>0</td>\n",
              "      <td>0</td>\n",
              "      <td>0</td>\n",
              "      <td>0</td>\n",
              "      <td>0</td>\n",
              "      <td>0</td>\n",
              "      <td>0</td>\n",
              "      <td>0</td>\n",
              "      <td>0</td>\n",
              "      <td>0</td>\n",
              "      <td>0</td>\n",
              "      <td>0.0</td>\n",
              "      <td>0.0</td>\n",
              "      <td>0.0</td>\n",
              "      <td>0.0</td>\n",
              "      <td>0.0</td>\n",
              "      <td>0.0</td>\n",
              "    </tr>\n",
              "    <tr>\n",
              "      <th>82783</th>\n",
              "      <td>0</td>\n",
              "      <td>180000.0</td>\n",
              "      <td>1078200.0</td>\n",
              "      <td>31522.5</td>\n",
              "      <td>900000.0</td>\n",
              "      <td>0.007330</td>\n",
              "      <td>-22237</td>\n",
              "      <td>-2029</td>\n",
              "      <td>-9018.0</td>\n",
              "      <td>-4236</td>\n",
              "      <td>NaN</td>\n",
              "      <td>1</td>\n",
              "      <td>1</td>\n",
              "      <td>1</td>\n",
              "      <td>1</td>\n",
              "      <td>1</td>\n",
              "      <td>0</td>\n",
              "      <td>2.0</td>\n",
              "      <td>2</td>\n",
              "      <td>2</td>\n",
              "      <td>12</td>\n",
              "      <td>0</td>\n",
              "      <td>0</td>\n",
              "      <td>0</td>\n",
              "      <td>0</td>\n",
              "      <td>0</td>\n",
              "      <td>0</td>\n",
              "      <td>NaN</td>\n",
              "      <td>0.558410</td>\n",
              "      <td>0.520898</td>\n",
              "      <td>0.1639</td>\n",
              "      <td>0.1095</td>\n",
              "      <td>0.9881</td>\n",
              "      <td>NaN</td>\n",
              "      <td>0.0328</td>\n",
              "      <td>0.16</td>\n",
              "      <td>0.1379</td>\n",
              "      <td>0.3750</td>\n",
              "      <td>NaN</td>\n",
              "      <td>0.3380</td>\n",
              "      <td>...</td>\n",
              "      <td>0.1379</td>\n",
              "      <td>0.3750</td>\n",
              "      <td>NaN</td>\n",
              "      <td>0.3439</td>\n",
              "      <td>0.1360</td>\n",
              "      <td>0.1807</td>\n",
              "      <td>NaN</td>\n",
              "      <td>0.0007</td>\n",
              "      <td>0.2096</td>\n",
              "      <td>4.0</td>\n",
              "      <td>0.0</td>\n",
              "      <td>4.0</td>\n",
              "      <td>0.0</td>\n",
              "      <td>-1019.0</td>\n",
              "      <td>0</td>\n",
              "      <td>1</td>\n",
              "      <td>0</td>\n",
              "      <td>0</td>\n",
              "      <td>0</td>\n",
              "      <td>0</td>\n",
              "      <td>0</td>\n",
              "      <td>0</td>\n",
              "      <td>0</td>\n",
              "      <td>0</td>\n",
              "      <td>0</td>\n",
              "      <td>0</td>\n",
              "      <td>0</td>\n",
              "      <td>0</td>\n",
              "      <td>0</td>\n",
              "      <td>0</td>\n",
              "      <td>0</td>\n",
              "      <td>0</td>\n",
              "      <td>0</td>\n",
              "      <td>0</td>\n",
              "      <td>0.0</td>\n",
              "      <td>0.0</td>\n",
              "      <td>0.0</td>\n",
              "      <td>0.0</td>\n",
              "      <td>0.0</td>\n",
              "      <td>0.0</td>\n",
              "    </tr>\n",
              "    <tr>\n",
              "      <th>99674</th>\n",
              "      <td>0</td>\n",
              "      <td>202500.0</td>\n",
              "      <td>700830.0</td>\n",
              "      <td>22738.5</td>\n",
              "      <td>585000.0</td>\n",
              "      <td>0.008625</td>\n",
              "      <td>-19094</td>\n",
              "      <td>-2620</td>\n",
              "      <td>-10083.0</td>\n",
              "      <td>-2611</td>\n",
              "      <td>NaN</td>\n",
              "      <td>1</td>\n",
              "      <td>1</td>\n",
              "      <td>0</td>\n",
              "      <td>1</td>\n",
              "      <td>0</td>\n",
              "      <td>0</td>\n",
              "      <td>2.0</td>\n",
              "      <td>2</td>\n",
              "      <td>2</td>\n",
              "      <td>14</td>\n",
              "      <td>0</td>\n",
              "      <td>0</td>\n",
              "      <td>0</td>\n",
              "      <td>0</td>\n",
              "      <td>0</td>\n",
              "      <td>0</td>\n",
              "      <td>NaN</td>\n",
              "      <td>0.411426</td>\n",
              "      <td>0.415347</td>\n",
              "      <td>0.0686</td>\n",
              "      <td>0.0393</td>\n",
              "      <td>0.9732</td>\n",
              "      <td>0.6056</td>\n",
              "      <td>0.0109</td>\n",
              "      <td>0.00</td>\n",
              "      <td>0.1379</td>\n",
              "      <td>0.1458</td>\n",
              "      <td>0.1667</td>\n",
              "      <td>0.0424</td>\n",
              "      <td>...</td>\n",
              "      <td>0.1379</td>\n",
              "      <td>0.1458</td>\n",
              "      <td>0.1667</td>\n",
              "      <td>0.0431</td>\n",
              "      <td>0.0462</td>\n",
              "      <td>0.0690</td>\n",
              "      <td>0.0</td>\n",
              "      <td>0.0205</td>\n",
              "      <td>0.0619</td>\n",
              "      <td>1.0</td>\n",
              "      <td>0.0</td>\n",
              "      <td>1.0</td>\n",
              "      <td>0.0</td>\n",
              "      <td>-1056.0</td>\n",
              "      <td>0</td>\n",
              "      <td>1</td>\n",
              "      <td>0</td>\n",
              "      <td>0</td>\n",
              "      <td>0</td>\n",
              "      <td>0</td>\n",
              "      <td>0</td>\n",
              "      <td>0</td>\n",
              "      <td>0</td>\n",
              "      <td>0</td>\n",
              "      <td>0</td>\n",
              "      <td>0</td>\n",
              "      <td>0</td>\n",
              "      <td>0</td>\n",
              "      <td>0</td>\n",
              "      <td>0</td>\n",
              "      <td>0</td>\n",
              "      <td>0</td>\n",
              "      <td>0</td>\n",
              "      <td>0</td>\n",
              "      <td>0.0</td>\n",
              "      <td>0.0</td>\n",
              "      <td>0.0</td>\n",
              "      <td>0.0</td>\n",
              "      <td>0.0</td>\n",
              "      <td>5.0</td>\n",
              "    </tr>\n",
              "    <tr>\n",
              "      <th>239415</th>\n",
              "      <td>0</td>\n",
              "      <td>202500.0</td>\n",
              "      <td>1350000.0</td>\n",
              "      <td>39604.5</td>\n",
              "      <td>1350000.0</td>\n",
              "      <td>0.026392</td>\n",
              "      <td>-12995</td>\n",
              "      <td>-3741</td>\n",
              "      <td>-2793.0</td>\n",
              "      <td>-2925</td>\n",
              "      <td>2.0</td>\n",
              "      <td>1</td>\n",
              "      <td>1</td>\n",
              "      <td>0</td>\n",
              "      <td>1</td>\n",
              "      <td>0</td>\n",
              "      <td>0</td>\n",
              "      <td>2.0</td>\n",
              "      <td>2</td>\n",
              "      <td>2</td>\n",
              "      <td>14</td>\n",
              "      <td>0</td>\n",
              "      <td>0</td>\n",
              "      <td>0</td>\n",
              "      <td>0</td>\n",
              "      <td>0</td>\n",
              "      <td>0</td>\n",
              "      <td>NaN</td>\n",
              "      <td>0.472951</td>\n",
              "      <td>0.481249</td>\n",
              "      <td>0.0711</td>\n",
              "      <td>NaN</td>\n",
              "      <td>0.9945</td>\n",
              "      <td>NaN</td>\n",
              "      <td>NaN</td>\n",
              "      <td>0.00</td>\n",
              "      <td>0.0690</td>\n",
              "      <td>0.2500</td>\n",
              "      <td>NaN</td>\n",
              "      <td>NaN</td>\n",
              "      <td>...</td>\n",
              "      <td>0.0690</td>\n",
              "      <td>0.2500</td>\n",
              "      <td>NaN</td>\n",
              "      <td>NaN</td>\n",
              "      <td>NaN</td>\n",
              "      <td>0.0548</td>\n",
              "      <td>NaN</td>\n",
              "      <td>0.0000</td>\n",
              "      <td>0.0387</td>\n",
              "      <td>0.0</td>\n",
              "      <td>0.0</td>\n",
              "      <td>0.0</td>\n",
              "      <td>0.0</td>\n",
              "      <td>-2248.0</td>\n",
              "      <td>0</td>\n",
              "      <td>1</td>\n",
              "      <td>0</td>\n",
              "      <td>0</td>\n",
              "      <td>0</td>\n",
              "      <td>0</td>\n",
              "      <td>0</td>\n",
              "      <td>0</td>\n",
              "      <td>0</td>\n",
              "      <td>0</td>\n",
              "      <td>0</td>\n",
              "      <td>0</td>\n",
              "      <td>0</td>\n",
              "      <td>0</td>\n",
              "      <td>0</td>\n",
              "      <td>0</td>\n",
              "      <td>0</td>\n",
              "      <td>0</td>\n",
              "      <td>0</td>\n",
              "      <td>0</td>\n",
              "      <td>0.0</td>\n",
              "      <td>0.0</td>\n",
              "      <td>0.0</td>\n",
              "      <td>0.0</td>\n",
              "      <td>0.0</td>\n",
              "      <td>1.0</td>\n",
              "    </tr>\n",
              "  </tbody>\n",
              "</table>\n",
              "</div>"
            ],
            "text/plain": [
              "        CNT_CHILDREN             ...              AMT_REQ_CREDIT_BUREAU_YEAR\n",
              "134179             0             ...                                     0.0\n",
              "182680             0             ...                                     0.0\n",
              "82783              0             ...                                     0.0\n",
              "99674              0             ...                                     5.0\n",
              "239415             0             ...                                     1.0\n",
              "\n",
              "[5 rows x 104 columns]"
            ]
          },
          "execution_count": 2,
          "metadata": {},
          "output_type": "execute_result"
        }
      ],
      "source": [
        "# Nhập dữ liệu train\n",
        "# Nhóm có thử thực hiện sử dụng dữ liệu train là dữ liệu do nhóm tiền xử lý hoặc tăng số lượng mẫu, tuy nhiên không thành công\n",
        "# Chi tiết nhóm sẽ trình bày ở phần \"Một số cải tiến nhưng không thành công\"\n",
        "features = pd.read_csv('../input/home-credit-default-risk/application_train.csv')\n",
        "\n",
        "# Chọn ra 30000 mẫu\n",
        "features = features.sample(n = 30000, random_state = 42)\n",
        "\n",
        "# Chọn ra các thuộc tính là number để tăng tốc độ tìm kiếm\n",
        "features = features.select_dtypes('number')\n",
        "\n",
        "# Tách thuộc tính TARGET riêng khỏi tập train\n",
        "labels = np.array(features['TARGET'].astype(np.int32)).reshape((-1, ))\n",
        "features = features.drop(columns = ['TARGET', 'SK_ID_CURR'])\n",
        "\n",
        "# Chia tập dữ liệu thành 20000 mẫu để train và 10000 mẫu để test\n",
        "train_features, test_features, train_labels, test_labels = train_test_split(features, labels, test_size = 10000, random_state = 42)\n",
        "\n",
        "print('Train shape: ', train_features.shape)\n",
        "print('Test shape: ', test_features.shape)\n",
        "\n",
        "train_features.head()"
      ]
    },
    {
      "cell_type": "markdown",
      "metadata": {
        "id": "cg9ewGJhmo-G"
      },
      "source": [
        "### Baseline Model \n"
      ]
    },
    {
      "cell_type": "markdown",
      "metadata": {
        "id": "mpKIv07mmo-H"
      },
      "source": [
        "Ta tạo một baseline model với các siêu tham số mặc định và tính độ đo của nó."
      ]
    },
    {
      "cell_type": "code",
      "execution_count": null,
      "metadata": {
        "execution": {
          "iopub.execute_input": "2021-12-26T10:28:54.711472Z",
          "iopub.status.busy": "2021-12-26T10:28:54.710990Z",
          "iopub.status.idle": "2021-12-26T10:29:00.273105Z",
          "shell.execute_reply": "2021-12-26T10:29:00.272190Z",
          "shell.execute_reply.started": "2021-12-26T10:28:54.711323Z"
        },
        "id": "OSdFogZTmo-I",
        "outputId": "251cda95-b4fe-40f4-bf44-6021c9637e6d"
      },
      "outputs": [
        {
          "name": "stderr",
          "output_type": "stream",
          "text": [
            "/opt/conda/lib/python3.6/site-packages/lightgbm/basic.py:661: UserWarning: silent keyword has been found in `params` and will be ignored. Please use silent argument of the Dataset constructor to pass this parameter.\n",
            "  'Please use {0} argument of the Dataset constructor to pass this parameter.'.format(key))\n"
          ]
        },
        {
          "name": "stdout",
          "output_type": "stream",
          "text": [
            "The maximium ROC AUC in cross validation was 0.73014 with std of 0.01265.\n",
            "The ideal number of iterations was 35.\n"
          ]
        }
      ],
      "source": [
        "model = lgb.LGBMClassifier(random_state=50)\n",
        "\n",
        "# Chia tập dữ liệu\n",
        "train_set = lgb.Dataset(train_features, label = train_labels)\n",
        "test_set = lgb.Dataset(test_features, label = test_labels)\n",
        "\n",
        "# Chọn tham số mặc định\n",
        "hyperparameters = model.get_params()\n",
        "\n",
        "# Xoá bỏ tham số 'n_estimators' nếu có, vì ta sẽ sử dụng early stopping\n",
        "del hyperparameters['n_estimators']\n",
        "\n",
        "# Thực hiện n_folds cross validation với 100 lần lặp early stopping\n",
        "cv_results = lgb.cv(hyperparameters, train_set, num_boost_round = 10000, nfold = N_FOLDS, metrics = 'auc', \n",
        "           early_stopping_rounds = 100, verbose_eval = False, seed = 42)\n",
        "\n",
        "# Trích xuất độ đo cv cao nhất\n",
        "best = cv_results['auc-mean'][-1]\n",
        "\n",
        "# Độ lệch chuẩn của best score\n",
        "best_std = cv_results['auc-stdv'][-1]\n",
        "\n",
        "print('The maximium ROC AUC in cross validation was {:.5f} with std of {:.5f}.'.format(best, best_std))\n",
        "print('The ideal number of iterations was {}.'.format(len(cv_results['auc-mean'])))"
      ]
    },
    {
      "cell_type": "markdown",
      "metadata": {
        "id": "5sNW1gK7mo-K"
      },
      "source": [
        "Đánh giá độ đo ROC AUC trước khi điều chỉnh siêu tham số."
      ]
    },
    {
      "cell_type": "code",
      "execution_count": null,
      "metadata": {
        "execution": {
          "iopub.execute_input": "2021-12-26T10:29:00.274597Z",
          "iopub.status.busy": "2021-12-26T10:29:00.274361Z",
          "iopub.status.idle": "2021-12-26T10:29:00.745225Z",
          "shell.execute_reply": "2021-12-26T10:29:00.744529Z",
          "shell.execute_reply.started": "2021-12-26T10:29:00.274563Z"
        },
        "id": "pHlCiKCjmo-L",
        "outputId": "9f736d9d-ee9f-4dc2-f173-700b914bbe55"
      },
      "outputs": [
        {
          "name": "stdout",
          "output_type": "stream",
          "text": [
            "The baseline model scores 0.73022 ROC AUC on the test set.\n"
          ]
        }
      ],
      "source": [
        "# Tối ưu hoá số lượng vòng lặp thực thi\n",
        "model.n_estimators = len(cv_results['auc-mean'])\n",
        "\n",
        "# Huấn luyện và dự đoán kết quả\n",
        "model.fit(train_features, train_labels)\n",
        "preds = model.predict_proba(test_features)[:, 1]\n",
        "baseline_auc = roc_auc_score(test_labels, preds)\n",
        "\n",
        "print('The baseline model scores {:.5f} ROC AUC on the test set.'.format(baseline_auc))"
      ]
    },
    {
      "cell_type": "markdown",
      "metadata": {
        "_uuid": "b5a87e7da07f85f4829d3d6a5390d6cacf81200f",
        "id": "qdAv7zOhr0fR"
      },
      "source": [
        "## Objective Function\n",
        "\n",
        "Hàm tối ưu hoá thường trả về việc giảm thiếu các giá trị, còn ROC AUC tốt khi đạt giá trị cao. Cho nên hàm mục tiêu sẽ trả về $1 - \\text{ROC AUC Cross Validation}$. Kết quả trả về thấp, đồng nghĩa với ROC AUC cao.\n",
        "\n",
        "Hàm sau khi thực thi sẽ lưu các giá trị vào file csv để theo dõi kết quả"
      ]
    },
    {
      "cell_type": "code",
      "execution_count": null,
      "metadata": {
        "_uuid": "ba10be21a3938f6dda3c45a7872a9fcf97529983",
        "execution": {
          "iopub.execute_input": "2021-12-26T10:29:00.747353Z",
          "iopub.status.busy": "2021-12-26T10:29:00.746798Z",
          "iopub.status.idle": "2021-12-26T10:29:00.834190Z",
          "shell.execute_reply": "2021-12-26T10:29:00.833170Z",
          "shell.execute_reply.started": "2021-12-26T10:29:00.747295Z"
        },
        "id": "XPC_sEuVr0fS"
      },
      "outputs": [],
      "source": [
        "import csv\n",
        "# Kiểm tra trạng thái và thời gian thực thi\n",
        "from hyperopt import STATUS_OK\n",
        "from timeit import default_timer as timer\n",
        "\n",
        "\"\"\"Objective function cho Gradient Boosting Machine Hyperparameter Optimization.\n",
        "        Hàm nhận vào các giá trị của các siêu tham số.\n",
        "        Hàm trả về bộ các thông tin của lần lặp: độ lỗi(loss), giá trị của các siêu tham số,\n",
        "        lần lặp, thời gian thực thi, trạng thái thực thi\n",
        "        Qua mỗi lần lặp sẽ viết một dòng mới vào 'outfile'\"\"\"\n",
        "def objective(hyperparameters):\n",
        "      \n",
        "    # Biến đếm lần lặp\n",
        "    global ITERATION\n",
        "    \n",
        "    ITERATION += 1\n",
        "    \n",
        "    # Xoá bỏ tham số 'n_estimators' nếu có, vì ta sẽ sử dụng early stopping\n",
        "    if 'n_estimators' in hyperparameters:\n",
        "        del hyperparameters['n_estimators']\n",
        "         \n",
        "    # Lấy subsample, cài đặt boosting_type và subsample là khoá chính của từ điển\n",
        "    # Khi không có subsample thì mặc định sẽ được gán là 1.0\n",
        "    subsample = hyperparameters['boosting_type'].get('subsample', 1.0)\n",
        "    hyperparameters['boosting_type'] = hyperparameters['boosting_type']['boosting_type']\n",
        "    hyperparameters['subsample'] = subsample\n",
        "    \n",
        "    # Đảm bảo các tham số là số nguyên\n",
        "    for parameter_name in ['num_leaves', 'subsample_for_bin', 'min_child_samples']:\n",
        "        hyperparameters[parameter_name] = int(hyperparameters[parameter_name])\n",
        "\n",
        "    start = timer()\n",
        "    \n",
        "    # Thực hiện n_folds cross validation với 100 lần lặp early stopping\n",
        "    cv_results = lgb.cv(hyperparameters, train_set, num_boost_round = 10000, nfold = N_FOLDS, \n",
        "                        early_stopping_rounds = 100, metrics = 'auc', seed = 50)\n",
        "\n",
        "    run_time = timer() - start\n",
        "    \n",
        "    # Trích xuất độ đo cv cao nhất\n",
        "    best_score = cv_results['auc-mean'][-1]\n",
        "    \n",
        "    # Tính toán giá trị loss\n",
        "    loss = 1 - best_score\n",
        "    \n",
        "    # Số lượng vòng lặp mà thuật toán thực hiện\n",
        "    n_estimators = len(cv_results['auc-mean'])\n",
        "    \n",
        "    # Thêm chỉ số lần lặp vào từ điển\n",
        "    hyperparameters['n_estimators'] = n_estimators\n",
        "\n",
        "    # Ghi kết quả vào file csv\n",
        "    of_connection = open(OUT_FILE, 'a')\n",
        "    writer = csv.writer(of_connection)\n",
        "    writer.writerow([loss, hyperparameters, ITERATION, run_time, best_score])\n",
        "    of_connection.close()\n",
        "\n",
        "    \"\"\" Từ điển trả về bao gồm các thông tin của lần lặp: độ lỗi(loss), giá trị của các siêu tham số,\n",
        "        lần lặp, thời gian thực thi, trạng thái thực thi\"\"\"\n",
        "    return {'loss': loss, 'hyperparameters': hyperparameters, 'iteration': ITERATION,\n",
        "            'train_time': run_time, 'status': STATUS_OK}"
      ]
    },
    {
      "cell_type": "markdown",
      "metadata": {
        "_uuid": "0f694f36815af159485cebae5e89f6c5c92db4a4",
        "id": "EePXH3nrr0fT"
      },
      "source": [
        "## Miền giá trị (Domain)\n",
        "\n",
        "Đối với mỗi siêu tham số, miền giá trị biểu thị một phân phối xác suất chứ không được xác định tại mỗi điểm rời rạc. Sử dụng thư viện hyperopt để thể hiện điều này."
      ]
    },
    {
      "cell_type": "markdown",
      "metadata": {
        "id": "KtBfqNzWmo-Q"
      },
      "source": [
        "### Hyperparameters for GBM\n",
        "\n",
        "Xem đầy đủ tại [LightGBM documentation](http://lightgbm.readthedocs.io/en/latest/Parameters.html)."
      ]
    },
    {
      "cell_type": "code",
      "execution_count": null,
      "metadata": {
        "_uuid": "de250ef92c2ecf63d73c3365bf004c456de55af8",
        "execution": {
          "iopub.execute_input": "2021-12-26T10:29:00.835778Z",
          "iopub.status.busy": "2021-12-26T10:29:00.835513Z",
          "iopub.status.idle": "2021-12-26T10:29:00.851380Z",
          "shell.execute_reply": "2021-12-26T10:29:00.850551Z",
          "shell.execute_reply.started": "2021-12-26T10:29:00.835719Z"
        },
        "id": "Ro8TJGRjr0fT"
      },
      "outputs": [],
      "source": [
        "from hyperopt import hp\n",
        "from hyperopt.pyll.stochastic import sample"
      ]
    },
    {
      "cell_type": "markdown",
      "metadata": {
        "_uuid": "986503a57f0ce7e6181eea0e8aa776b6d438ff5e",
        "id": "0OQwZ2m0r0fa"
      },
      "source": [
        "### Miền hoàn chỉnh của Bayesian\n",
        "\n",
        "Tác giả thực hiện thuật toán nhiều lần và lựa chọn ra các miền giá trị phù hợp. Có 10 siêu tham số được chọn."
      ]
    },
    {
      "cell_type": "code",
      "execution_count": null,
      "metadata": {
        "_uuid": "3e64d5e64487d437faf17cfb349aa9cc03f5cb5a",
        "execution": {
          "iopub.execute_input": "2021-12-26T10:29:00.853102Z",
          "iopub.status.busy": "2021-12-26T10:29:00.852761Z",
          "iopub.status.idle": "2021-12-26T10:29:00.871798Z",
          "shell.execute_reply": "2021-12-26T10:29:00.870991Z",
          "shell.execute_reply.started": "2021-12-26T10:29:00.853031Z"
        },
        "id": "lO7tyDvkr0fb"
      },
      "outputs": [],
      "source": [
        "space = {\n",
        "    'boosting_type': hp.choice('boosting_type', \n",
        "                                            [{'boosting_type': 'gbdt', 'subsample': hp.uniform('gdbt_subsample', 0.5, 1)}, \n",
        "                                             {'boosting_type': 'dart', 'subsample': hp.uniform('dart_subsample', 0.5, 1)},\n",
        "                                             {'boosting_type': 'goss', 'subsample': 1.0}]),\n",
        "    'num_leaves': hp.quniform('num_leaves', 20, 150, 1),\n",
        "    'learning_rate': hp.loguniform('learning_rate', np.log(0.01), np.log(0.5)),\n",
        "    'subsample_for_bin': hp.quniform('subsample_for_bin', 20000, 300000, 20000),\n",
        "    'min_child_samples': hp.quniform('min_child_samples', 20, 500, 5),\n",
        "    'reg_alpha': hp.uniform('reg_alpha', 0.0, 1.0),\n",
        "    'reg_lambda': hp.uniform('reg_lambda', 0.0, 1.0),\n",
        "    'colsample_bytree': hp.uniform('colsample_by_tree', 0.6, 1.0),\n",
        "    'is_unbalance': hp.choice('is_unbalance', [True, False]),\n",
        "}"
      ]
    },
    {
      "cell_type": "markdown",
      "metadata": {
        "id": "IxBrcF-rmo-W"
      },
      "source": [
        "Kiểm tra tính đúng của hàm mục tiêu với các miền."
      ]
    },
    {
      "cell_type": "code",
      "execution_count": null,
      "metadata": {
        "id": "R6_h8dzemo-X",
        "outputId": "6ab93a3f-cb6e-4fbe-9f25-a846b09ba4f4"
      },
      "outputs": [
        {
          "name": "stdout",
          "output_type": "stream",
          "text": [
            "The cross validation loss = 0.26498.\n",
            "The optimal number of estimators was 775.\n"
          ]
        }
      ],
      "source": [
        "# Tạo file csv lưu kết quả\n",
        "OUT_FILE = 'bayes_test.csv'\n",
        "of_connection = open(OUT_FILE, 'w')\n",
        "writer = csv.writer(of_connection)\n",
        "\n",
        "ITERATION = 0\n",
        "\n",
        "# Tạo dòng tiêu đề\n",
        "headers = ['loss', 'hyperparameters', 'iteration', 'runtime', 'score']\n",
        "writer.writerow(headers)\n",
        "of_connection.close()\n",
        "\n",
        "# Kiểm tra hàm mục tiêu\n",
        "results = objective(sample(space))\n",
        "print('The cross validation loss = {:.5f}.'.format(results['loss']))\n",
        "print('The optimal number of estimators was {}.'.format(results['hyperparameters']['n_estimators']))"
      ]
    },
    {
      "cell_type": "markdown",
      "metadata": {
        "_uuid": "ac777fc3c83709161d43e0d751844548966b7741",
        "id": "7F3E48vAr0fd"
      },
      "source": [
        "## Thuật toán tối ưu hoá\n",
        "\n",
        "Thuật toán tối ưu hóa là phương pháp xây dựng hàm thay thế (mô hình xác suất) và chọn tập siêu tham số tiếp theo để đánh giá trong hàm mục tiêu. Hyperopt có hai lựa chọn: tìm kiếm ngẫu nhiên và Tree Parzen Estimator.\n",
        "\n",
        "Chi tiết về TPE có thể xem [tại đây](https://papers.nips.cc/paper/4443-algorithms-for-hyper-parameter-optimization.pdf) và [đây](https://towardsdatascience.com/a-conceptual-explanation-of-bayesian-model-based-hyperparameter-optimization-for-machine-learning-b8172278050f)."
      ]
    },
    {
      "cell_type": "markdown",
      "metadata": {
        "id": "SU5-VzXwmYGY"
      },
      "source": [
        "Sơ lược về TPE:\n",
        "- Tổng quan:\n",
        "    - TPE đưa ra lịch sử tìm kiếm và gợi ý bộ siêu tham số cho lần thử tiếp theo\n",
        "    - Áp dụng độc lập cho từng siêu tham số của miền giá trị\n",
        "- Input:\n",
        "    - Lịch sử tìm kiếm (bộ tham số, độ đo)\n",
        "    - Biểu thức tính toán\n",
        "- Output:\n",
        "    - Gợi ý giá trị của từng tham số cho bước tiếp theo"
      ]
    },
    {
      "cell_type": "code",
      "execution_count": null,
      "metadata": {
        "_uuid": "5c33d18601fd7a9211e34351bf8cbf6b3ae0fbc5",
        "execution": {
          "iopub.execute_input": "2021-12-26T10:29:00.873570Z",
          "iopub.status.busy": "2021-12-26T10:29:00.873263Z",
          "iopub.status.idle": "2021-12-26T10:29:00.889722Z",
          "shell.execute_reply": "2021-12-26T10:29:00.888989Z",
          "shell.execute_reply.started": "2021-12-26T10:29:00.873515Z"
        },
        "id": "D9jHSNb-r0fd"
      },
      "outputs": [],
      "source": [
        "from hyperopt import tpe\n",
        "\n",
        "# Khởi tạo thuật toán\n",
        "tpe_algorithm = tpe.suggest"
      ]
    },
    {
      "cell_type": "markdown",
      "metadata": {
        "_uuid": "474f0f6308ecc63cba6e8f1c3f226e926af28e47",
        "id": "xITRFy6mr0ff"
      },
      "source": [
        "## Lịch sử các kết quả\n",
        "Hyperopt có cơ chế lưu giữ lại kết quả của thuật toán, nếu ta muốn tự theo dõi thì có 2 phương pháp:\n",
        "\n",
        "1. Một đối tượng `Trials` lưu trữ từ điển được hàm mục tiêu trả về: cách này là của Hyperopt\n",
        "2. Thêm một dòng vào file csv ở mỗi lần lặp: cách này là để mình xuất ra file csv sau này import lại nếu cần"
      ]
    },
    {
      "cell_type": "code",
      "execution_count": null,
      "metadata": {
        "execution": {
          "iopub.execute_input": "2021-12-26T10:29:00.891100Z",
          "iopub.status.busy": "2021-12-26T10:29:00.890865Z",
          "iopub.status.idle": "2021-12-26T10:29:00.902663Z",
          "shell.execute_reply": "2021-12-26T10:29:00.901882Z",
          "shell.execute_reply.started": "2021-12-26T10:29:00.891060Z"
        },
        "id": "H-4382kVmo-a"
      },
      "outputs": [],
      "source": [
        "# Sử dụng Trials\n",
        "from hyperopt import Trials\n",
        "trials = Trials()\n",
        "\n",
        "# Sử dụng file csv\n",
        "OUT_FILE = 'bayes_test.csv'\n",
        "of_connection = open(OUT_FILE, 'w')\n",
        "writer = csv.writer(of_connection)\n",
        "\n",
        "ITERATION = 0\n",
        "\n",
        "headers = ['loss', 'hyperparameters', 'iteration', 'runtime', 'score']\n",
        "writer.writerow(headers)\n",
        "of_connection.close()"
      ]
    },
    {
      "cell_type": "markdown",
      "metadata": {
        "_uuid": "262b8db537d8b9fdf292d8bd26a5437e4c1a817d",
        "id": "Z_wUlm3wr0fh"
      },
      "source": [
        "## Automated Hyperparameter Optimization trong thực tế\n",
        "\n",
        "Ta sử dụng `fmin` để chạy Bayesian optimization."
      ]
    },
    {
      "cell_type": "code",
      "execution_count": null,
      "metadata": {
        "_uuid": "da392f020f3a69c5b65719f0b2de5645dd917c23",
        "execution": {
          "iopub.execute_input": "2021-12-26T10:29:00.904088Z",
          "iopub.status.busy": "2021-12-26T10:29:00.903820Z",
          "iopub.status.idle": "2021-12-26T10:29:00.915080Z",
          "shell.execute_reply": "2021-12-26T10:29:00.914352Z",
          "shell.execute_reply.started": "2021-12-26T10:29:00.904025Z"
        },
        "id": "_df0L-dkr0fh"
      },
      "outputs": [],
      "source": [
        "from hyperopt import fmin"
      ]
    },
    {
      "cell_type": "markdown",
      "metadata": {
        "_uuid": "76bb8e045c5f49a0a18c469672f6f7a45b6daaa4",
        "id": "uAq9XtE6r0fi"
      },
      "source": [
        "`fmin` thực hiện toàn bộ 4 phần ở trên và với số lần lặp lại là `max_evals`. "
      ]
    },
    {
      "cell_type": "code",
      "execution_count": null,
      "metadata": {
        "_uuid": "61c1dff17f82f41f143070d10233eeb2f52212bc",
        "execution": {
          "iopub.execute_input": "2021-12-26T10:29:00.916600Z",
          "iopub.status.busy": "2021-12-26T10:29:00.916179Z",
          "iopub.status.idle": "2021-12-26T10:29:19.226088Z",
          "shell.execute_reply": "2021-12-26T10:29:19.225509Z",
          "shell.execute_reply.started": "2021-12-26T10:29:00.916543Z"
        },
        "id": "p-YXZIMer0fi",
        "outputId": "7706b240-e79e-4e4a-92e7-48e4997003a1"
      },
      "outputs": [
        {
          "data": {
            "text/plain": [
              "{'boosting_type': 0,\n",
              " 'colsample_by_tree': 0.8897607820954707,\n",
              " 'gdbt_subsample': 0.9390578141671977,\n",
              " 'is_unbalance': 0,\n",
              " 'learning_rate': 0.0810617136719032,\n",
              " 'min_child_samples': 420.0,\n",
              " 'num_leaves': 148.0,\n",
              " 'reg_alpha': 0.7353034702883622,\n",
              " 'reg_lambda': 0.952235309870236,\n",
              " 'subsample_for_bin': 100000.0}"
            ]
          },
          "execution_count": 12,
          "metadata": {},
          "output_type": "execute_result"
        }
      ],
      "source": [
        "# Biến đếm lần lặp\n",
        "global  ITERATION\n",
        "\n",
        "ITERATION = 0\n",
        "\n",
        "# Thực hiện tối ưu hoá với hàm mục tiêu, miền giá trị, thuật toán tối ưu hoá, lịch sử. số lần lặp tối đa\n",
        "best = fmin(fn = objective, space = space, algo = tpe.suggest, trials = trials,\n",
        "            max_evals = MAX_EVALS)\n",
        "\n",
        "best"
      ]
    },
    {
      "cell_type": "markdown",
      "metadata": {
        "_uuid": "1068012ebcbf781b4f48dddb0d73bd9c2d6c013c",
        "id": "c4bIF_h2r0fi"
      },
      "source": [
        "`best` sẽ lưu các siêu tham số cho ra giá trị thấp nhất ở hàm mục tiêu. Ta có thể xem lại cá bước thực thi thông qua `Trials` hoặc file `csv`."
      ]
    },
    {
      "cell_type": "code",
      "execution_count": null,
      "metadata": {
        "execution": {
          "iopub.execute_input": "2021-12-26T10:29:19.227356Z",
          "iopub.status.busy": "2021-12-26T10:29:19.226995Z",
          "iopub.status.idle": "2021-12-26T10:29:19.234134Z",
          "shell.execute_reply": "2021-12-26T10:29:19.233304Z",
          "shell.execute_reply.started": "2021-12-26T10:29:19.227317Z"
        },
        "id": "4_-WRMSrmo-h",
        "outputId": "208ba6bc-392b-4534-a41b-a766e9c45e3e"
      },
      "outputs": [
        {
          "data": {
            "text/plain": [
              "[{'hyperparameters': {'boosting_type': 'gbdt',\n",
              "   'colsample_bytree': 0.8897607820954707,\n",
              "   'is_unbalance': True,\n",
              "   'learning_rate': 0.0810617136719032,\n",
              "   'metric': 'auc',\n",
              "   'min_child_samples': 420,\n",
              "   'n_estimators': 55,\n",
              "   'num_leaves': 148,\n",
              "   'reg_alpha': 0.7353034702883622,\n",
              "   'reg_lambda': 0.952235309870236,\n",
              "   'subsample': 0.9390578141671977,\n",
              "   'subsample_for_bin': 100000,\n",
              "   'verbose': 1},\n",
              "  'iteration': 5,\n",
              "  'loss': 0.26443537797757355,\n",
              "  'status': 'ok',\n",
              "  'train_time': 7.008536955000011}]"
            ]
          },
          "execution_count": 13,
          "metadata": {},
          "output_type": "execute_result"
        }
      ],
      "source": [
        "trials_dict = sorted(trials.results, key = lambda x: x['loss'])\n",
        "trials_dict[:1]"
      ]
    },
    {
      "cell_type": "code",
      "execution_count": null,
      "metadata": {
        "execution": {
          "iopub.execute_input": "2021-12-26T10:29:19.235673Z",
          "iopub.status.busy": "2021-12-26T10:29:19.235423Z",
          "iopub.status.idle": "2021-12-26T10:29:19.249906Z",
          "shell.execute_reply": "2021-12-26T10:29:19.249200Z",
          "shell.execute_reply.started": "2021-12-26T10:29:19.235626Z"
        },
        "id": "RKN8hUkqmo-i"
      },
      "outputs": [],
      "source": [
        "results = pd.read_csv(OUT_FILE)"
      ]
    },
    {
      "cell_type": "markdown",
      "metadata": {
        "_uuid": "caf8239e0d550e8379900520a93567ef38084a91",
        "id": "dNNFLp2sr0fj"
      },
      "source": [
        "Xây dựng hàm đánh giá, hàm này sẽ nhận kết quả, đào tạo một mô hình trên dữ liệu train và đánh giá trên dữ liệu tập test. Nó trả về một dataframes các siêu tham số.\n",
        "\n",
        "Ta lưu kết quả vào file csv, ở file csv kết quả sẽ được lưu thành string do đó ta dùng `ast.literal_eval` để chuyển lại thành từ điển."
      ]
    },
    {
      "cell_type": "code",
      "execution_count": null,
      "metadata": {
        "_uuid": "3718a29f6665b1966429adb0cb4387de44c10ef5",
        "execution": {
          "iopub.execute_input": "2021-12-26T10:29:19.251519Z",
          "iopub.status.busy": "2021-12-26T10:29:19.251074Z",
          "iopub.status.idle": "2021-12-26T10:29:19.311618Z",
          "shell.execute_reply": "2021-12-26T10:29:19.310780Z",
          "shell.execute_reply.started": "2021-12-26T10:29:19.251478Z"
        },
        "id": "EsMGZi5vr0fj"
      },
      "outputs": [],
      "source": [
        "import ast\n",
        "\n",
        "def evaluate(results, name):\n",
        "    \"\"\" Đánh giá mô hình trên dữ liệu test thông qua bộ siêu tham số của result\n",
        "        Hàm trả về dataframe của các bộ siêu tham số\"\"\"\n",
        "    \n",
        "    new_results = results.copy()\n",
        "    # Chuyển đổi kiểu string thành kiểu dictionary\n",
        "    new_results['hyperparameters'] = new_results['hyperparameters'].map(ast.literal_eval)\n",
        "    \n",
        "    # Sắp xếp lại dữ liệu với giá trị tốt nhất đứng đầu\n",
        "    new_results = new_results.sort_values('score', ascending = False).reset_index(drop = True)\n",
        "    \n",
        "    # In ra độ đo cv\n",
        "    print('The highest cross validation score from {} was {:.5f} found on iteration {}.'.format(name, new_results.loc[0, 'score'], new_results.loc[0, 'iteration']))\n",
        "    \n",
        "    # Trích xuất bộ siêu tham số tối ưu\n",
        "    hyperparameters = new_results.loc[0, 'hyperparameters']\n",
        "    model = lgb.LGBMClassifier(**hyperparameters)\n",
        "    \n",
        "    # Huấn luyện và dự đoán kết quả\n",
        "    model.fit(train_features, train_labels)\n",
        "    preds = model.predict_proba(test_features)[:, 1]\n",
        "    \n",
        "    print('ROC AUC from {} on test data = {:.5f}.'.format(name, roc_auc_score(test_labels, preds)))\n",
        "    \n",
        "    # Tạo dataframe lưu bộ siêu tham số\n",
        "    hyp_df = pd.DataFrame(columns = list(new_results.loc[0, 'hyperparameters'].keys()))\n",
        "\n",
        "    # Lưu các bộ giá trị còn lại\n",
        "    for i, hyp in enumerate(new_results['hyperparameters']):\n",
        "        hyp_df = hyp_df.append(pd.DataFrame(hyp, index = [0]), \n",
        "                               ignore_index = True)\n",
        "        \n",
        "    # Ghi giá trị iteration và score vào dataframe trả về\n",
        "    hyp_df['iteration'] = new_results['iteration']\n",
        "    hyp_df['score'] = new_results['score']\n",
        "    \n",
        "    return hyp_df"
      ]
    },
    {
      "cell_type": "code",
      "execution_count": null,
      "metadata": {
        "id": "IgkToJWjmo-l",
        "outputId": "5cbe8b28-b778-4589-f98b-442c08604cec"
      },
      "outputs": [
        {
          "name": "stdout",
          "output_type": "stream",
          "text": [
            "The highest cross validation score from Bayesian was 0.73556 found on iteration 5.\n",
            "ROC AUC from Bayesian on test data = 0.72643.\n"
          ]
        },
        {
          "data": {
            "text/html": [
              "<div>\n",
              "<style scoped>\n",
              "    .dataframe tbody tr th:only-of-type {\n",
              "        vertical-align: middle;\n",
              "    }\n",
              "\n",
              "    .dataframe tbody tr th {\n",
              "        vertical-align: top;\n",
              "    }\n",
              "\n",
              "    .dataframe thead th {\n",
              "        text-align: right;\n",
              "    }\n",
              "</style>\n",
              "<table border=\"1\" class=\"dataframe\">\n",
              "  <thead>\n",
              "    <tr style=\"text-align: right;\">\n",
              "      <th></th>\n",
              "      <th>boosting_type</th>\n",
              "      <th>colsample_bytree</th>\n",
              "      <th>is_unbalance</th>\n",
              "      <th>learning_rate</th>\n",
              "      <th>min_child_samples</th>\n",
              "      <th>num_leaves</th>\n",
              "      <th>reg_alpha</th>\n",
              "      <th>reg_lambda</th>\n",
              "      <th>subsample_for_bin</th>\n",
              "      <th>subsample</th>\n",
              "      <th>metric</th>\n",
              "      <th>verbose</th>\n",
              "      <th>n_estimators</th>\n",
              "      <th>iteration</th>\n",
              "      <th>score</th>\n",
              "    </tr>\n",
              "  </thead>\n",
              "  <tbody>\n",
              "    <tr>\n",
              "      <th>0</th>\n",
              "      <td>gbdt</td>\n",
              "      <td>0.889761</td>\n",
              "      <td>True</td>\n",
              "      <td>0.081062</td>\n",
              "      <td>420</td>\n",
              "      <td>148</td>\n",
              "      <td>0.735303</td>\n",
              "      <td>0.952235</td>\n",
              "      <td>100000</td>\n",
              "      <td>0.939058</td>\n",
              "      <td>auc</td>\n",
              "      <td>1</td>\n",
              "      <td>55</td>\n",
              "      <td>5</td>\n",
              "      <td>0.735565</td>\n",
              "    </tr>\n",
              "    <tr>\n",
              "      <th>1</th>\n",
              "      <td>gbdt</td>\n",
              "      <td>0.698281</td>\n",
              "      <td>False</td>\n",
              "      <td>0.121340</td>\n",
              "      <td>415</td>\n",
              "      <td>66</td>\n",
              "      <td>0.956878</td>\n",
              "      <td>0.678873</td>\n",
              "      <td>300000</td>\n",
              "      <td>0.793451</td>\n",
              "      <td>auc</td>\n",
              "      <td>1</td>\n",
              "      <td>40</td>\n",
              "      <td>1</td>\n",
              "      <td>0.735260</td>\n",
              "    </tr>\n",
              "    <tr>\n",
              "      <th>2</th>\n",
              "      <td>dart</td>\n",
              "      <td>0.741961</td>\n",
              "      <td>False</td>\n",
              "      <td>0.012124</td>\n",
              "      <td>335</td>\n",
              "      <td>115</td>\n",
              "      <td>0.254334</td>\n",
              "      <td>0.803568</td>\n",
              "      <td>160000</td>\n",
              "      <td>0.841386</td>\n",
              "      <td>auc</td>\n",
              "      <td>1</td>\n",
              "      <td>24</td>\n",
              "      <td>2</td>\n",
              "      <td>0.729334</td>\n",
              "    </tr>\n",
              "    <tr>\n",
              "      <th>3</th>\n",
              "      <td>goss</td>\n",
              "      <td>0.886115</td>\n",
              "      <td>True</td>\n",
              "      <td>0.010208</td>\n",
              "      <td>35</td>\n",
              "      <td>56</td>\n",
              "      <td>0.705820</td>\n",
              "      <td>0.295902</td>\n",
              "      <td>220000</td>\n",
              "      <td>1.000000</td>\n",
              "      <td>auc</td>\n",
              "      <td>1</td>\n",
              "      <td>97</td>\n",
              "      <td>4</td>\n",
              "      <td>0.720804</td>\n",
              "    </tr>\n",
              "    <tr>\n",
              "      <th>4</th>\n",
              "      <td>gbdt</td>\n",
              "      <td>0.743251</td>\n",
              "      <td>False</td>\n",
              "      <td>0.108611</td>\n",
              "      <td>40</td>\n",
              "      <td>86</td>\n",
              "      <td>0.470700</td>\n",
              "      <td>0.700422</td>\n",
              "      <td>300000</td>\n",
              "      <td>0.531471</td>\n",
              "      <td>auc</td>\n",
              "      <td>1</td>\n",
              "      <td>35</td>\n",
              "      <td>3</td>\n",
              "      <td>0.714618</td>\n",
              "    </tr>\n",
              "  </tbody>\n",
              "</table>\n",
              "</div>"
            ],
            "text/plain": [
              "  boosting_type  colsample_bytree    ...    iteration     score\n",
              "0          gbdt          0.889761    ...            5  0.735565\n",
              "1          gbdt          0.698281    ...            1  0.735260\n",
              "2          dart          0.741961    ...            2  0.729334\n",
              "3          goss          0.886115    ...            4  0.720804\n",
              "4          gbdt          0.743251    ...            3  0.714618\n",
              "\n",
              "[5 rows x 15 columns]"
            ]
          },
          "execution_count": 16,
          "metadata": {},
          "output_type": "execute_result"
        }
      ],
      "source": [
        "bayes_results = evaluate(results, name = 'Bayesian')\n",
        "bayes_results"
      ]
    },
    {
      "cell_type": "markdown",
      "source": [
        "Các phần ở trên là ví dụ các cách thực thi của việc Automated Model Tuning, được dùng trên một số mẫu nhỏ. Phần dưới đây ta sẽ tiến hành trên tập Limited Data thực tế."
      ],
      "metadata": {
        "id": "VN9F1_8Hd0rW"
      }
    },
    {
      "cell_type": "markdown",
      "metadata": {
        "_uuid": "177c71a7774d8c4bde35d9373cbc8b936cfe9a00",
        "id": "581Y9cyDr0fm"
      },
      "source": [
        "## Thực hiện trên tập Limited Data\n"
      ]
    },
    {
      "cell_type": "markdown",
      "metadata": {
        "id": "cLhaAQeOmo-o"
      },
      "source": [
        "Tác giả chạy 1000 lần tính toán trên tập dữ liệu giới hạn để so sánh. Nhóm đã thực hiện trước và lưu lại các file csv vào dataset \"[Home Credit Team8 Model Tuning](https://www.kaggle.com/chnhgr/home-credit-team8-model-tuning)\" nên đoạn code dưới này được comment lại."
      ]
    },
    {
      "cell_type": "code",
      "execution_count": null,
      "metadata": {
        "_uuid": "4e3f5f06fe20d5085f09b554db701ca642e38b40",
        "execution": {
          "iopub.status.busy": "2021-12-26T10:29:19.456865Z",
          "iopub.status.idle": "2021-12-26T10:29:19.457316Z"
        },
        "id": "sJ0pgs2cr0fm"
      },
      "outputs": [],
      "source": [
        "# # Thực hiện 1000 lần lặp\n",
        "# MAX_EVALS = 1000\n",
        "\n",
        "# # Tạo file để lưu kết quả\n",
        "# OUT_FILE = 'bayesian_trials_1000.csv'\n",
        "# of_connection = open(OUT_FILE, 'w')\n",
        "# writer = csv.writer(of_connection)\n",
        "\n",
        "# # Tạo header file\n",
        "# headers = ['loss', 'hyperparameters', 'iteration', 'runtime', 'score']\n",
        "# writer.writerow(headers)\n",
        "# of_connection.close()\n",
        "\n",
        "# # Sử dụng Trials để lưu các giá trị\n",
        "# trials = Trials()\n",
        "\n",
        "# global ITERATION\n",
        "\n",
        "# ITERATION = 0 \n",
        "\n",
        "# # Thực thi thuật toán\n",
        "# best = fmin(fn = objective, space = space, algo = tpe.suggest,\n",
        "#             trials = trials, max_evals = MAX_EVALS)\n",
        "\n",
        "# # Sắp xếp các kết quả với giá trị có loss thấp nhất (điểm AUC cao nhất) ở đầu\n",
        "# trials_dict = sorted(trials.results, key = lambda x: x['loss'])\n",
        "\n",
        "# print('Finished, best results')\n",
        "# print(trials_dict[:1])\n",
        "\n",
        "# # Ghi kết quả vào file\n",
        "# with open('trials.json', 'w') as f:\n",
        "#     f.write(json.dumps(trials_dict))"
      ]
    },
    {
      "cell_type": "markdown",
      "metadata": {
        "id": "lvRsw8Hvmo-r"
      },
      "source": [
        "## Kết quả thực hiện"
      ]
    },
    {
      "cell_type": "markdown",
      "metadata": {
        "id": "hoyjanYbmo-s"
      },
      "source": [
        "Kết quả thực hiện trên tập Limited Data với 1000 lần lặp. Sau bước này ta sẽ sử dụng giá trị của các siêu tham số tìm được để áp dụng cho toàn bộ dữ liệu của cuộc thi. Ở đa ta sẽ lấy dữ liệu của cả Random Search để so sánh."
      ]
    },
    {
      "cell_type": "code",
      "execution_count": null,
      "metadata": {
        "execution": {
          "iopub.execute_input": "2021-12-26T10:29:49.821533Z",
          "iopub.status.busy": "2021-12-26T10:29:49.821204Z",
          "iopub.status.idle": "2021-12-26T10:29:56.986008Z",
          "shell.execute_reply": "2021-12-26T10:29:56.985095Z",
          "shell.execute_reply.started": "2021-12-26T10:29:49.821479Z"
        },
        "id": "aAFBtr7wmo-s",
        "outputId": "7e5183ae-4f39-4bef-96e9-26aa65aa116f"
      },
      "outputs": [
        {
          "name": "stdout",
          "output_type": "stream",
          "text": [
            "The highest cross validation score from Bayesian was 0.74072 found on iteration 786.\n",
            "ROC AUC from Bayesian on test data = 0.73690.\n"
          ]
        }
      ],
      "source": [
        "# Lấy lại kết quả nhóm đã thực hiện trước đó, kết quả được sắp xếp lại với giá trị tốt nhất nằm đầu tiên\n",
        "bayes_results = pd.read_csv('../input/home-credit-team8-model-tuning/bayesian_trials_1000_30000.csv').sort_values('score', ascending = False).reset_index()\n",
        "\n",
        "# Đánh giá mô hình và chọn ra bộ siêu tham số tối ưu nhất\n",
        "bayes_params = evaluate(bayes_results, name = 'Bayesian')"
      ]
    },
    {
      "cell_type": "markdown",
      "metadata": {
        "id": "nqBY_6_8mo-t"
      },
      "source": [
        "## Visualizations"
      ]
    },
    {
      "cell_type": "markdown",
      "metadata": {
        "id": "j-YVqLjQmo-u"
      },
      "source": [
        "### Độ đo ROC AUC qua mỗi lần lặp"
      ]
    },
    {
      "cell_type": "code",
      "execution_count": null,
      "metadata": {
        "execution": {
          "iopub.status.busy": "2021-12-26T10:29:19.458906Z",
          "iopub.status.idle": "2021-12-26T10:29:19.459313Z"
        },
        "id": "6TNPdKHtmo-v",
        "outputId": "b88fc238-9d4e-4230-b55d-f58e3415ac04"
      },
      "outputs": [
        {
          "data": {
            "image/png": "[encoded data removed]",
            "text/plain": [
              "<matplotlib.figure.Figure at 0x7fef50eb4b00>"
            ]
          },
          "metadata": {},
          "output_type": "display_data"
        }
      ],
      "source": [
        "# Dataframe thể hiện độ đo\n",
        "scores = pd.DataFrame({'ROC AUC': bayes_params['score'], 'iteration': bayes_params['iteration'], 'search': 'Bayesian'})\n",
        "\n",
        "scores['ROC AUC'] = scores['ROC AUC'].astype(np.float32)\n",
        "scores['iteration'] = scores['iteration'].astype(np.int32)\n",
        "\n",
        "# Giá trị tốt nhất\n",
        "best_bayes_params = bayes_params.iloc[bayes_params['score'].idxmax(), :].copy()\n",
        "\n",
        "# Vẽ biểu đồ giá trị ROC AUC của mỗi lần lặp\n",
        "sns.lmplot('iteration', 'ROC AUC', hue = 'search', data = scores, size = 8);\n",
        "plt.scatter(best_bayes_params['iteration'], best_bayes_params['score'], marker = '*', s = 400, c = 'orange', edgecolor = 'k')\n",
        "plt.xlabel('Iteration'); plt.ylabel('ROC AUC'); plt.title(\"Validation ROC AUC versus Iteration\");"
      ]
    },
    {
      "cell_type": "markdown",
      "metadata": {
        "id": "qW8WWF2tmo_k"
      },
      "source": [
        "## Áp dụng trên toàn bộ tập dữ liệu\n",
        "\n",
        "Sử dụng các siêu tham số tốt nhất được tìm ra từ random search để áp dụng cho toàn bộ tập dữ liệu sau khi đã tiền xử lý của nhóm.\n",
        "\n",
        "Tổng hợp các dataset đã xử lý của nhóm: \"[Home Credit Team8 Dataset](https://www.kaggle.com/chnhgr/home-credit-team8-dataset)\""
      ]
    },
    {
      "cell_type": "code",
      "execution_count": null,
      "metadata": {
        "execution": {
          "iopub.status.busy": "2021-12-26T10:29:19.459855Z",
          "iopub.status.idle": "2021-12-26T10:29:19.460245Z"
        },
        "id": "XF6EkIV2mo_l",
        "outputId": "fc80a2a6-b5a3-4279-aeca-e82323651c37"
      },
      "outputs": [
        {
          "name": "stdout",
          "output_type": "stream",
          "text": [
            "Training shape:  (307511, 429)\n",
            "Testing shape:  (48744, 429)\n"
          ]
        }
      ],
      "source": [
        "# Đọc dữ liệu\n",
        "train = pd.read_csv('../input/home-credit-team8-dataset/final_train_2.csv')\n",
        "test = pd.read_csv('../input/home-credit-team8-dataset/final_test_2.csv')\n",
        "\n",
        "# Tách cột ID và Target\n",
        "test_ids = test['SK_ID_CURR']\n",
        "train_labels = np.array(train['TARGET'].astype(np.int32)).reshape((-1, ))\n",
        "\n",
        "train = train.drop(columns = ['SK_ID_CURR', 'TARGET'])\n",
        "test = test.drop(columns = ['SK_ID_CURR'])\n",
        "\n",
        "print('Training shape: ', train.shape)\n",
        "print('Testing shape: ', test.shape)"
      ]
    },
    {
      "cell_type": "code",
      "execution_count": null,
      "metadata": {
        "execution": {
          "iopub.status.busy": "2021-12-26T10:29:19.460785Z",
          "iopub.status.idle": "2021-12-26T10:29:19.461166Z"
        },
        "id": "Lr2qbzkGmo_m",
        "outputId": "956a2f31-e4f3-4521-b71d-141851ff981c"
      },
      "outputs": [
        {
          "name": "stdout",
          "output_type": "stream",
          "text": [
            "The cross validation score on the full dataset for Bayesian optimization = 0.78729 with std: 0.00287.\n",
            "Number of estimators = 2131.\n"
          ]
        }
      ],
      "source": [
        "bayes_results['hyperparameters'] = bayes_results['hyperparameters'].map(ast.literal_eval)\n",
        "train_set = lgb.Dataset(train, label = train_labels)\n",
        "hyperparameters = dict(**bayes_results.loc[0, 'hyperparameters'])\n",
        "del hyperparameters['n_estimators']\n",
        "\n",
        "# Thực thi Cross validation\n",
        "cv_results = lgb.cv(hyperparameters, train_set,\n",
        "                    num_boost_round = 10000, early_stopping_rounds = 100, \n",
        "                    metrics = 'auc', nfold = N_FOLDS)\n",
        "\n",
        "print('The cross validation score on the full dataset for Bayesian optimization = {:.5f} with std: {:.5f}.'.format(\n",
        "    cv_results['auc-mean'][-1], cv_results['auc-stdv'][-1]))\n",
        "print('Number of estimators = {}.'.format(len(cv_results['auc-mean'])))"
      ]
    },
    {
      "cell_type": "code",
      "execution_count": null,
      "metadata": {
        "execution": {
          "iopub.status.busy": "2021-12-26T10:29:19.461699Z",
          "iopub.status.idle": "2021-12-26T10:29:19.462065Z"
        },
        "id": "CyZVW74emo_n"
      },
      "outputs": [],
      "source": [
        "# Dự đoán kết quả trên tập test\n",
        "model = lgb.LGBMClassifier(n_estimators = len(cv_results['auc-mean']), **hyperparameters)\n",
        "model.fit(train, train_labels)\n",
        "\n",
        "preds = model.predict_proba(test)[:, 1]\n",
        "\n",
        "submission = pd.DataFrame({'SK_ID_CURR': test_ids, 'TARGET': preds})\n",
        "submission.to_csv('submission_bayesian_optimization.csv', index = False)"
      ]
    },
    {
      "cell_type": "markdown",
      "metadata": {
        "id": "aQRk2DjEmo_o"
      },
      "source": [
        "## Kết quả"
      ]
    },
    {
      "cell_type": "markdown",
      "metadata": {
        "id": "bOU89Tg6mo_p"
      },
      "source": [
        "**Kết quả của tác giả là:**\n",
        "- Thời gian thực thi trên Kaggle: __3750.5s__.\n",
        "- Public Leaderboard: __0.791__."
      ]
    },
    {
      "cell_type": "markdown",
      "metadata": {
        "id": "GvG81QWFmo_q"
      },
      "source": [
        "**Kết quả của Solution Top1 là:**\n",
        "- Public Leaderboard: __0.80920__.\n",
        "- Private Leaderboard: __0.80570__."
      ]
    },
    {
      "cell_type": "markdown",
      "metadata": {
        "id": "HaqP-UWrmo_q"
      },
      "source": [
        "**Kết quả của nhóm là:**\n",
        "\n",
        "|                            \t| <font size=\"3\"> Dataset 1 \t| <font size=\"3\"> Dataset 2 \t| <font size=\"3\"> Dataset 3 \t|\n",
        "|:--------------------------:\t|:---------:\t|:---------:\t|:---------:\t|\n",
        "| <font size=\"3\"> Thời gian chạy trên Kaggle \t|  <font size=\"3\"> 2531.2s  \t|  <font size=\"3\"> 2395.9s \t|  <font size=\"3\"> 4079.8s \t|\n",
        "|     <font size=\"3\"> Private Leaderboard    \t|  <font size=\"3\"> 0.78873  \t|  <font size=\"3\"> 0.79011 \t|  <font size=\"3\"> 0.79073  \t|\n",
        "|     <font size=\"3\"> Public Leaderboard     \t|  <font size=\"3\"> 0.79491  \t|  <font size=\"3\"> 0.79573  \t|  <font size=\"3\"> 0.79456  \t|\n"
      ]
    },
    {
      "cell_type": "markdown",
      "metadata": {
        "id": "_wtpFPxJY-nF"
      },
      "source": [
        "## Một số cải tiến nhưng không thành công\n",
        "\n",
        "Tác giả sử dụng việc điều chỉnh siêu tham dựa vào việc tìm kiếm trên file `application_train` của đề bài. Nhóm nhận thấy là nếu sử dụng tìm kiếm trên file data train sau khi tiền xử lý thì có thể cho ra kết quả tốt hơn. Tuy nhiên kích thước file data train quá lớn, thực hiện tìm kiếm trên đó bị quá thời gian của Kaggle (9 tiếng).\n",
        "\n",
        "Cụ thể nhóm thực hiện tìm kiếm lần lượt với các cách chia: 20000 train - 10000 test, 15000 - 10000, 10000 - 6000, 10000 - 5000 với cả 3 dataset tuy nhiên đều bị quá 9 tiếng (nhóm cũng đã thử trên cả GPU).\n",
        "\n",
        "Khi hạ số lượng xuống dưới mức 10000 train - 6000 test thì thực hiện được, nhưng kết quả khi submit lại thấp hơn nhiều (cao nhất là 0.787 với private và 0.79 với public) nên nhóm không lựa chọn cách này nữa. Bởi vì tốn rất nhiều thời gian chạy và không có hiệu quả cao.\n",
        "\n",
        "Nhóm cũng có thực hiện tìm kiếm trên file `application_train` với các cách chia lớn hơn 100000 train - 50000 test, 50000 - 30000 nhưng cũng vượt quá giới hạn của kaggle.\n"
      ]
    }
  ],
  "metadata": {
    "kernelspec": {
      "display_name": "Python 3",
      "language": "python",
      "name": "python3"
    },
    "language_info": {
      "codemirror_mode": {
        "name": "ipython",
        "version": 3
      },
      "file_extension": ".py",
      "mimetype": "text/x-python",
      "name": "python",
      "nbconvert_exporter": "python",
      "pygments_lexer": "ipython3",
      "version": "3.6.4"
    },
    "colab": {
      "name": "Model.ipynb",
      "provenance": [],
      "collapsed_sections": [
        "KtBfqNzWmo-Q",
        "0OQwZ2m0r0fa",
        "j-YVqLjQmo-u"
      ],
      "toc_visible": true
    }
  },
  "nbformat": 4,
  "nbformat_minor": 0
}